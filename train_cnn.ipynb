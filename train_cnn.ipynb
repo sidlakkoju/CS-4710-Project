{
 "cells": [
  {
   "cell_type": "code",
   "execution_count": 4,
   "id": "030b2113-4a3a-418d-9deb-be3f3e0e80be",
   "metadata": {
    "tags": []
   },
   "outputs": [],
   "source": [
    "import os\n",
    "import torch\n",
    "import torchvision\n",
    "from torchvision import datasets, transforms\n",
    "from torch.utils.data import DataLoader, random_split\n",
    "from torchvision.datasets import ImageFolder\n",
    "\n",
    "\n",
    "\n",
    "base_dir = 'dataset'\n",
    "\n",
    "def load_data(directory, batch_size=32):\n",
    "    transform = transforms.Compose([\n",
    "        transforms.Resize((150, 150)),\n",
    "        transforms.ToTensor(),\n",
    "        transforms.Normalize(mean=[0.485, 0.456, 0.406], std=[0.229, 0.224, 0.225])\n",
    "    ])\n",
    "    \n",
    "    data = ImageFolder(directory, transform=transform)\n",
    "    data_loader = DataLoader(data, batch_size=batch_size, shuffle=True)\n",
    "    return data_loader\n",
    "\n",
    "\n",
    "train_loader = load_data(os.path.join(base_dir, 'Train'))\n",
    "validation_loader = load_data(os.path.join(base_dir, 'Validation'))\n",
    "test_loader = load_data(os.path.join(base_dir, 'Test'))"
   ]
  },
  {
   "cell_type": "code",
   "execution_count": 5,
   "id": "7a3be2d3-8371-47b4-88da-bd46e48e9b05",
   "metadata": {
    "tags": []
   },
   "outputs": [],
   "source": [
    "import torch.nn as nn\n",
    "import torch.nn.functional as F\n",
    "\n",
    "class CNN(nn.Module):\n",
    "    def __init__(self):\n",
    "        super(CNN, self).__init__()\n",
    "        self.conv1 = nn.Conv2d(3, 32, kernel_size=3, padding=1)\n",
    "        self.conv2 = nn.Conv2d(32, 64, kernel_size=3, padding=1)\n",
    "        self.conv3 = nn.Conv2d(64, 128, kernel_size=3, padding=1)\n",
    "        self.fc1 = nn.Linear(128 * 18 * 18, 512)\n",
    "        self.fc2 = nn.Linear(512, 4)\n",
    "        self.pool = nn.MaxPool2d(2, 2)\n",
    "\n",
    "    def forward(self, x):\n",
    "        x = self.pool(F.relu(self.conv1(x)))\n",
    "        x = self.pool(F.relu(self.conv2(x)))\n",
    "        x = self.pool(F.relu(self.conv3(x)))\n",
    "        x = x.view(-1, 128 * 18 * 18)\n",
    "        x = F.relu(self.fc1(x))\n",
    "        x = self.fc2(x)\n",
    "        return x\n"
   ]
  },
  {
   "cell_type": "code",
   "execution_count": 10,
   "id": "08e178c0-f954-4fe7-b0b8-7b925f9f03a0",
   "metadata": {
    "tags": []
   },
   "outputs": [],
   "source": [
    "import torch\n",
    "from torch import nn\n",
    "\n",
    "def train_model(model, train_loader, valid_loader, num_epochs=10, learning_rate=1e-3):\n",
    "    optimizer = torch.optim.Adam(model.parameters(), lr=learning_rate)\n",
    "    criterion = nn.CrossEntropyLoss()\n",
    "    device = torch.device('cuda' if torch.cuda.is_available() else 'cpu')\n",
    "    model = model.to(device)\n",
    "    \n",
    "    # Lists to track the losses and accuracies\n",
    "    train_losses = []\n",
    "    valid_losses = []\n",
    "    train_accuracies = []\n",
    "    valid_accuracies = []\n",
    "    \n",
    "    for epoch in range(num_epochs):\n",
    "        model.train()  # Set model to training mode\n",
    "        running_loss = 0.0\n",
    "        correct_train = 0\n",
    "        total_train = 0\n",
    "        \n",
    "        for inputs, labels in train_loader:\n",
    "            inputs, labels = inputs.to(device), labels.to(device)\n",
    "            optimizer.zero_grad()  # Zero the parameter gradients\n",
    "            outputs = model(inputs)  # Forward pass\n",
    "            loss = criterion(outputs, labels)\n",
    "            loss.backward()  # Backward pass\n",
    "            optimizer.step()  # Optimize\n",
    "\n",
    "            running_loss += loss.item()\n",
    "            _, predicted = torch.max(outputs.data, 1)\n",
    "            total_train += labels.size(0)\n",
    "            correct_train += (predicted == labels).sum().item()\n",
    "        \n",
    "        average_train_loss = running_loss / len(train_loader)\n",
    "        train_accuracy = 100 * correct_train / total_train\n",
    "        train_losses.append(average_train_loss)\n",
    "        train_accuracies.append(train_accuracy)\n",
    "\n",
    "        # Validation phase\n",
    "        model.eval()  # Set model to evaluate mode\n",
    "        running_val_loss = 0.0\n",
    "        correct_val = 0\n",
    "        total_val = 0\n",
    "\n",
    "        with torch.no_grad():  # No gradients needed for validation\n",
    "            for inputs, labels in valid_loader:\n",
    "                inputs, labels = inputs.to(device), labels.to(device)\n",
    "                outputs = model(inputs)\n",
    "                loss = criterion(outputs, labels)\n",
    "                running_val_loss += loss.item()\n",
    "                _, predicted = torch.max(outputs.data, 1)\n",
    "                total_val += labels.size(0)\n",
    "                correct_val += (predicted == labels).sum().item()\n",
    "        \n",
    "        average_val_loss = running_val_loss / len(valid_loader)\n",
    "        val_accuracy = 100 * correct_val / total_val\n",
    "        valid_losses.append(average_val_loss)\n",
    "        valid_accuracies.append(val_accuracy)\n",
    "        \n",
    "        print(f'Epoch {epoch + 1}, Train Loss: {average_train_loss:.4f}, Train Acc: {train_accuracy:.2f}%, Val Loss: {average_val_loss:.4f}, Val Acc: {val_accuracy:.2f}%')\n",
    "    \n",
    "    return model, train_losses, valid_losses, train_accuracies, valid_accuracies\n"
   ]
  },
  {
   "cell_type": "code",
   "execution_count": 11,
   "id": "4099fd66-0235-454e-95ad-443989f8e29b",
   "metadata": {
    "tags": []
   },
   "outputs": [],
   "source": [
    "import matplotlib.pyplot as plt\n",
    "\n",
    "def plot_metric(train_metric, valid_metric, metric_name, save_path='figures/img.png'):\n",
    "    plt.figure(figsize=(10, 5))\n",
    "    plt.plot(train_losses, label=f'Training {metric_name}')\n",
    "    plt.plot(valid_losses, label=f'Validation Loss {metric_name}')\n",
    "    plt.title(f'Training and Validation {metric_name}')\n",
    "    plt.xlabel('Epochs')\n",
    "    plt.ylabel('Loss')\n",
    "    plt.legend()\n",
    "    plt.grid(True)\n",
    "    plt.show()\n",
    "    \n",
    "    plt.savefig(save_path)\n"
   ]
  },
  {
   "cell_type": "code",
   "execution_count": 13,
   "id": "ba3bdf14-4143-4851-8db0-0efb07307279",
   "metadata": {
    "tags": []
   },
   "outputs": [
    {
     "name": "stdout",
     "output_type": "stream",
     "text": [
      "Epoch 1, Train Loss: 1.0307, Train Acc: 57.67%, Val Loss: 0.6523, Val Acc: 70.14%\n",
      "Epoch 2, Train Loss: 0.5353, Train Acc: 78.20%, Val Loss: 0.5108, Val Acc: 81.08%\n",
      "Epoch 3, Train Loss: 0.3676, Train Acc: 86.31%, Val Loss: 0.4395, Val Acc: 82.81%\n",
      "Epoch 4, Train Loss: 0.2081, Train Acc: 92.46%, Val Loss: 0.4395, Val Acc: 86.46%\n",
      "Epoch 5, Train Loss: 0.1170, Train Acc: 95.90%, Val Loss: 0.4282, Val Acc: 86.11%\n",
      "Epoch 6, Train Loss: 0.0461, Train Acc: 98.65%, Val Loss: 0.4651, Val Acc: 88.72%\n",
      "Epoch 7, Train Loss: 0.0274, Train Acc: 99.26%, Val Loss: 0.5887, Val Acc: 87.67%\n",
      "Epoch 8, Train Loss: 0.0676, Train Acc: 98.17%, Val Loss: 0.6406, Val Acc: 87.33%\n",
      "Epoch 9, Train Loss: 0.0672, Train Acc: 98.04%, Val Loss: 0.4041, Val Acc: 89.58%\n",
      "Epoch 10, Train Loss: 0.0237, Train Acc: 99.08%, Val Loss: 0.6730, Val Acc: 88.02%\n"
     ]
    }
   ],
   "source": [
    "model = CNN()  # Assuming CNN is your model class\n",
    "trained_model, train_losses, valid_losses, train_accuracies, valid_accuracies = train_model(model, train_loader, validation_loader)"
   ]
  },
  {
   "cell_type": "code",
   "execution_count": null,
   "id": "9a0cdd8c-337e-4d55-9304-066cf65d9cd9",
   "metadata": {},
   "outputs": [],
   "source": [
    "import pickle\n",
    "\n",
    "\n",
    "with open('train_data.pkl', 'wb') as f:\n",
    "    pickle.dump({'': })"
   ]
  },
  {
   "cell_type": "code",
   "execution_count": 14,
   "id": "39a6ff18-675e-47e2-8c7f-31ee2d334787",
   "metadata": {
    "tags": []
   },
   "outputs": [
    {
     "data": {
      "image/png": "[encoded data removed]",
      "text/plain": [
       "<Figure size 1000x500 with 1 Axes>"
      ]
     },
     "metadata": {},
     "output_type": "display_data"
    }
   ],
   "source": [
    "# Now plot the losses\n",
    "plot_metric(train_losses, valid_losses, 'Loss')"
   ]
  },
  {
   "cell_type": "code",
   "execution_count": 15,
   "id": "5a2459c9-96af-4b27-b66e-d4945e1a7527",
   "metadata": {
    "tags": []
   },
   "outputs": [],
   "source": [
    "def save_model(model, path='model.pth'):\n",
    "    torch.save(model.state_dict(), path)\n",
    "\n",
    "def load_model(path='model.pth'):\n",
    "    model = CNN()\n",
    "    model.load_state_dict(torch.load(path))\n",
    "    model.eval()\n",
    "    return model\n",
    "\n",
    "# Example usage:\n",
    "save_model(trained_model)\n",
    "# loaded_model = load_model()"
   ]
  },
  {
   "cell_type": "code",
   "execution_count": 17,
   "id": "d0d4c2b0-08a9-4e92-b8bc-2bb199ab1929",
   "metadata": {
    "tags": []
   },
   "outputs": [
    {
     "name": "stdout",
     "output_type": "stream",
     "text": [
      "Defaulting to user installation because normal site-packages is not writeable\n",
      "Collecting torchviz\n",
      "  Downloading torchviz-0.0.2.tar.gz (4.9 kB)\n",
      "  Preparing metadata (setup.py) ... \u001b[?25ldone\n",
      "\u001b[?25hRequirement already satisfied: torch in /home/jax4zk/.local/lib/python3.11/site-packages (from torchviz) (2.2.0)\n",
      "Collecting graphviz (from torchviz)\n",
      "  Obtaining dependency information for graphviz from https://files.pythonhosted.org/packages/00/be/d59db2d1d52697c6adc9eacaf50e8965b6345cc143f671e1ed068818d5cf/graphviz-0.20.3-py3-none-any.whl.metadata\n",
      "  Downloading graphviz-0.20.3-py3-none-any.whl.metadata (12 kB)\n",
      "Requirement already satisfied: filelock in /home/jax4zk/.local/lib/python3.11/site-packages (from torch->torchviz) (3.13.1)\n",
      "Requirement already satisfied: typing-extensions>=4.8.0 in /home/jax4zk/.local/lib/python3.11/site-packages (from torch->torchviz) (4.9.0)\n",
      "Requirement already satisfied: sympy in /home/jax4zk/.local/lib/python3.11/site-packages (from torch->torchviz) (1.12)\n",
      "Requirement already satisfied: networkx in /apps/software/standard/core/jupyterlab/3.6.3-py3.11/lib/python3.11/site-packages (from torch->torchviz) (3.1)\n",
      "Requirement already satisfied: jinja2 in /apps/software/standard/core/jupyterlab/3.6.3-py3.11/lib/python3.11/site-packages (from torch->torchviz) (3.1.2)\n",
      "Requirement already satisfied: fsspec in /home/jax4zk/.local/lib/python3.11/site-packages (from torch->torchviz) (2023.10.0)\n",
      "Requirement already satisfied: nvidia-cuda-nvrtc-cu12==12.1.105 in /home/jax4zk/.local/lib/python3.11/site-packages (from torch->torchviz) (12.1.105)\n",
      "Requirement already satisfied: nvidia-cuda-runtime-cu12==12.1.105 in /home/jax4zk/.local/lib/python3.11/site-packages (from torch->torchviz) (12.1.105)\n",
      "Requirement already satisfied: nvidia-cuda-cupti-cu12==12.1.105 in /home/jax4zk/.local/lib/python3.11/site-packages (from torch->torchviz) (12.1.105)\n",
      "Requirement already satisfied: nvidia-cudnn-cu12==8.9.2.26 in /home/jax4zk/.local/lib/python3.11/site-packages (from torch->torchviz) (8.9.2.26)\n",
      "Requirement already satisfied: nvidia-cublas-cu12==12.1.3.1 in /home/jax4zk/.local/lib/python3.11/site-packages (from torch->torchviz) (12.1.3.1)\n",
      "Requirement already satisfied: nvidia-cufft-cu12==11.0.2.54 in /home/jax4zk/.local/lib/python3.11/site-packages (from torch->torchviz) (11.0.2.54)\n",
      "Requirement already satisfied: nvidia-curand-cu12==10.3.2.106 in /home/jax4zk/.local/lib/python3.11/site-packages (from torch->torchviz) (10.3.2.106)\n",
      "Requirement already satisfied: nvidia-cusolver-cu12==11.4.5.107 in /home/jax4zk/.local/lib/python3.11/site-packages (from torch->torchviz) (11.4.5.107)\n",
      "Requirement already satisfied: nvidia-cusparse-cu12==12.1.0.106 in /home/jax4zk/.local/lib/python3.11/site-packages (from torch->torchviz) (12.1.0.106)\n",
      "Requirement already satisfied: nvidia-nccl-cu12==2.19.3 in /home/jax4zk/.local/lib/python3.11/site-packages (from torch->torchviz) (2.19.3)\n",
      "Requirement already satisfied: nvidia-nvtx-cu12==12.1.105 in /home/jax4zk/.local/lib/python3.11/site-packages (from torch->torchviz) (12.1.105)\n",
      "Requirement already satisfied: triton==2.2.0 in /home/jax4zk/.local/lib/python3.11/site-packages (from torch->torchviz) (2.2.0)\n",
      "Requirement already satisfied: nvidia-nvjitlink-cu12 in /home/jax4zk/.local/lib/python3.11/site-packages (from nvidia-cusolver-cu12==11.4.5.107->torch->torchviz) (12.3.101)\n",
      "Requirement already satisfied: MarkupSafe>=2.0 in /apps/software/standard/core/jupyterlab/3.6.3-py3.11/lib/python3.11/site-packages (from jinja2->torch->torchviz) (2.1.3)\n",
      "Requirement already satisfied: mpmath>=0.19 in /home/jax4zk/.local/lib/python3.11/site-packages (from sympy->torch->torchviz) (1.3.0)\n",
      "Downloading graphviz-0.20.3-py3-none-any.whl (47 kB)\n",
      "\u001b[2K   \u001b[90m━━━━━━━━━━━━━━━━━━━━━━━━━━━━━━━━━━━━━━━━\u001b[0m \u001b[32m47.1/47.1 kB\u001b[0m \u001b[31m1.5 MB/s\u001b[0m eta \u001b[36m0:00:00\u001b[0m\n",
      "\u001b[?25hBuilding wheels for collected packages: torchviz\n",
      "  Building wheel for torchviz (setup.py) ... \u001b[?25ldone\n",
      "\u001b[?25h  Created wheel for torchviz: filename=torchviz-0.0.2-py3-none-any.whl size=4130 sha256=15bdd31a0f9f50c7a0bc047f14893fdb7102921c31fa85ff852a9269023ccb9a\n",
      "  Stored in directory: /sfs/qumulo/qhome/jax4zk/.cache/pip/wheels/5a/d0/3f/b7014553eb74f12892b7d9b69c6083044564712d10fde8dfdc\n",
      "Successfully built torchviz\n",
      "Installing collected packages: graphviz, torchviz\n",
      "Successfully installed graphviz-0.20.3 torchviz-0.0.2\n"
     ]
    }
   ],
   "source": [
    "!pip3 install torchviz"
   ]
  },
  {
   "cell_type": "code",
   "execution_count": 18,
   "id": "a53471c5-1069-4bb4-b755-d366b12233e0",
   "metadata": {
    "tags": []
   },
   "outputs": [
    {
     "data": {
      "text/plain": [
       "'model_visualization.png'"
      ]
     },
     "execution_count": 18,
     "metadata": {},
     "output_type": "execute_result"
    }
   ],
   "source": [
    "from torchviz import make_dot\n",
    "\n",
    "def visualize_model(model, input_size=(3, 150, 150)):\n",
    "    # Create a dummy input tensor with the correct size\n",
    "    dummy_input = torch.randn(1, *input_size, requires_grad=True)\n",
    "    device = torch.device('cuda' if torch.cuda.is_available() else 'cpu')\n",
    "    dummy_input = dummy_input.to(device)\n",
    "    model = model.to(device)\n",
    "    \n",
    "    # Forward pass through the model\n",
    "    output = model(dummy_input)\n",
    "    \n",
    "    # Create dot graph of the model\n",
    "    dot = make_dot(output, params=dict(list(model.named_parameters()) + [('input', dummy_input)]))\n",
    "    return dot\n",
    "\n",
    "# Example usage:\n",
    "dot = visualize_model(model)\n",
    "dot.render('model_visualization', format='png', cleanup=True)  # This saves the diagram as a PNG\n"
   ]
  },
  {
   "cell_type": "code",
   "execution_count": null,
   "id": "93535fa8-8adf-4cc6-98c2-d5526f4557da",
   "metadata": {},
   "outputs": [],
   "source": []
  }
 ],
 "metadata": {
  "kernelspec": {
   "display_name": "Python 3 (ipykernel)",
   "language": "python",
   "name": "python3"
  },
  "language_info": {
   "codemirror_mode": {
    "name": "ipython",
    "version": 3
   },
   "file_extension": ".py",
   "mimetype": "text/x-python",
   "name": "python",
   "nbconvert_exporter": "python",
   "pygments_lexer": "ipython3",
   "version": "3.11.4"
  }
 },
 "nbformat": 4,
 "nbformat_minor": 5
}
