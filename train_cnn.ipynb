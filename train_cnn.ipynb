{
 "cells": [
  {
   "cell_type": "markdown",
   "id": "43198168",
   "metadata": {},
   "source": [
    "# Brain Tumor Classification"
   ]
  },
  {
   "cell_type": "markdown",
   "id": "f8c59d31",
   "metadata": {},
   "source": [
    "## Data Loading"
   ]
  },
  {
   "cell_type": "code",
   "execution_count": 23,
   "id": "aa95acd3",
   "metadata": {},
   "outputs": [],
   "source": [
    "import os\n",
    "from torchvision import datasets, transforms\n",
    "from torch.utils.data import DataLoader, random_split\n",
    "import torch\n",
    "\n",
    "BASE_DIR = 'combined_dataset'\n",
    "TRAIN_VAL_SPLIT = 0.8\n",
    "\n",
    "transform = transforms.Compose([\n",
    "    transforms.Resize((150, 150)),\n",
    "    transforms.ToTensor(),\n",
    "    transforms.Normalize(mean=[0.485, 0.456, 0.406], std=[0.229, 0.224, 0.225])\n",
    "])\n",
    "\n",
    "# Load datasets\n",
    "train_dataset = datasets.ImageFolder(os.path.join(BASE_DIR, 'Training'), transform=transform)\n",
    "test_dataset = datasets.ImageFolder(os.path.join(BASE_DIR, 'Testing'), transform=transform)\n",
    "\n",
    "# Splitting the dataset into training and validation\n",
    "train_size = int(TRAIN_VAL_SPLIT * len(train_dataset))\n",
    "val_size = len(train_dataset) - train_size\n",
    "train_data, val_data = random_split(train_dataset, [train_size, val_size])\n",
    "\n",
    "# Create dataloaders\n",
    "train_loader = DataLoader(train_data, batch_size=32, shuffle=True, num_workers=4)\n",
    "validation_loader = DataLoader(val_data, batch_size=32, shuffle=False, num_workers=4)\n",
    "test_loader = DataLoader(test_dataset, batch_size=32, shuffle=False, num_workers=4)"
   ]
  },
  {
   "cell_type": "markdown",
   "id": "332bb67f",
   "metadata": {},
   "source": [
    "## CNN Model"
   ]
  },
  {
   "cell_type": "code",
   "execution_count": 24,
   "id": "7a3be2d3-8371-47b4-88da-bd46e48e9b05",
   "metadata": {
    "tags": []
   },
   "outputs": [],
   "source": [
    "import torch.nn as nn\n",
    "import torch.nn.functional as F\n",
    "\n",
    "class CNN(nn.Module):\n",
    "    def __init__(self):\n",
    "        super(CNN, self).__init__()\n",
    "        self.conv1 = nn.Conv2d(3, 32, kernel_size=3, padding=1)\n",
    "        self.conv2 = nn.Conv2d(32, 64, kernel_size=3, padding=1)\n",
    "        self.conv3 = nn.Conv2d(64, 128, kernel_size=3, padding=1)\n",
    "        self.fc1 = nn.Linear(128 * 18 * 18, 512)\n",
    "        self.fc2 = nn.Linear(512, 4)\n",
    "        self.pool = nn.MaxPool2d(2, 2)\n",
    "\n",
    "    def forward(self, x):\n",
    "        x = self.pool(F.relu(self.conv1(x)))\n",
    "        x = self.pool(F.relu(self.conv2(x)))\n",
    "        x = self.pool(F.relu(self.conv3(x)))\n",
    "        x = x.view(-1, 128 * 18 * 18)\n",
    "        x = F.relu(self.fc1(x))\n",
    "        x = self.fc2(x)\n",
    "        return x"
   ]
  },
  {
   "cell_type": "code",
   "execution_count": 26,
   "id": "08e178c0-f954-4fe7-b0b8-7b925f9f03a0",
   "metadata": {
    "tags": []
   },
   "outputs": [],
   "source": [
    "from torch import nn\n",
    "import matplotlib.pyplot as plt\n",
    "\n",
    "def train_model(model, train_loader, valid_loader, num_epochs=10, learning_rate=1e-3):\n",
    "    optimizer = torch.optim.Adam(model.parameters(), lr=learning_rate)\n",
    "    criterion = nn.CrossEntropyLoss()\n",
    "\n",
    "    if torch.cuda.is_available():\n",
    "        print(\"CUDA\")\n",
    "        device = torch.device(\"cuda\")\n",
    "    elif torch.backends.mps.is_available():\n",
    "        print(\"MPS\")\n",
    "        device = torch.device(\"mps\")\n",
    "    else:\n",
    "        print(\"CPU\")\n",
    "        device = torch.device(\"cpu\")\n",
    "\n",
    "    model = model.to(device)\n",
    "    \n",
    "    # Lists to track the losses and accuracies\n",
    "    train_losses = []\n",
    "    valid_losses = []\n",
    "    train_accuracies = []\n",
    "    valid_accuracies = []\n",
    "    \n",
    "    for epoch in range(num_epochs):\n",
    "        model.train()  # Set model to training mode\n",
    "        running_loss = 0.0\n",
    "        correct_train = 0\n",
    "        total_train = 0\n",
    "        \n",
    "        for inputs, labels in train_loader:\n",
    "            inputs, labels = inputs.to(device), labels.to(device)\n",
    "            optimizer.zero_grad()  # Zero the parameter gradients\n",
    "            outputs = model(inputs)  # Forward pass\n",
    "            loss = criterion(outputs, labels)\n",
    "            loss.backward()  # Backward pass\n",
    "            optimizer.step()  # Optimize\n",
    "\n",
    "            running_loss += loss.item()\n",
    "            _, predicted = torch.max(outputs.data, 1)\n",
    "            total_train += labels.size(0)\n",
    "            correct_train += (predicted == labels).sum().item()\n",
    "        \n",
    "        average_train_loss = running_loss / len(train_loader)\n",
    "        train_accuracy = 100 * correct_train / total_train\n",
    "        train_losses.append(average_train_loss)\n",
    "        train_accuracies.append(train_accuracy)\n",
    "\n",
    "        # Validation phase\n",
    "        model.eval()  # Set model to evaluate mode\n",
    "        running_val_loss = 0.0\n",
    "        correct_val = 0\n",
    "        total_val = 0\n",
    "\n",
    "        with torch.no_grad():  # No gradients needed for validation\n",
    "            for inputs, labels in valid_loader:\n",
    "                inputs, labels = inputs.to(device), labels.to(device)\n",
    "                outputs = model(inputs)\n",
    "                loss = criterion(outputs, labels)\n",
    "                running_val_loss += loss.item()\n",
    "                _, predicted = torch.max(outputs.data, 1)\n",
    "                total_val += labels.size(0)\n",
    "                correct_val += (predicted == labels).sum().item()\n",
    "        \n",
    "        average_val_loss = running_val_loss / len(valid_loader)\n",
    "        val_accuracy = 100 * correct_val / total_val\n",
    "        valid_losses.append(average_val_loss)\n",
    "        valid_accuracies.append(val_accuracy)\n",
    "        \n",
    "        print(f'Epoch {epoch + 1}, Train Loss: {average_train_loss:.4f}, Train Acc: {train_accuracy:.2f}%, Val Loss: {average_val_loss:.4f}, Val Acc: {val_accuracy:.2f}%')\n",
    "    \n",
    "    return model, train_losses, valid_losses, train_accuracies, valid_accuracies\n",
    "\n",
    "\n",
    "def save_model(model, directory=\"models\"):\n",
    "    os.makedirs(directory, exist_ok=True)\n",
    "    \n",
    "    highest_num = 0\n",
    "    for filename in os.listdir(directory):\n",
    "        if filename.startswith(\"model_\") and filename.endswith(\".pth\"):\n",
    "            num = int(filename.split('_')[1].split('.')[0])\n",
    "            if num > highest_num:\n",
    "                highest_num = num\n",
    "    \n",
    "    model_filename = f\"model_{highest_num + 1}.pth\"\n",
    "    model_path = os.path.join(directory, model_filename)\n",
    "    \n",
    "    torch.save(model.state_dict(), model_path)\n",
    "    print(f\"Model saved as {model_filename} in directory '{directory}'.\")\n",
    "\n",
    "\n",
    "def load_model(model, model_number = None, directory=\"models\"):\n",
    "    if model_number is None:\n",
    "        model_number = 0\n",
    "        for filename in os.listdir(directory):\n",
    "            if filename.startswith(\"model_\") and filename.endswith(\".pth\"):\n",
    "                num = int(filename.split('_')[1].split('.')[0])\n",
    "                if num > model_number:\n",
    "                    model_number = num\n",
    "\n",
    "    model_filename = f\"model_{model_number}.pth\"\n",
    "    model_path = os.path.join(directory, model_filename)\n",
    "    if not os.path.exists(model_path):\n",
    "        print(f\"No model found with the name {model_filename} in directory '{directory}'.\")\n",
    "        return None\n",
    "    model.load_state_dict(torch.load(model_path))\n",
    "    print(f\"Model loaded from {model_filename}.\")\n",
    "    return model\n",
    "\n",
    "\n",
    "def test_model(model, test_loader):\n",
    "    model.eval()  \n",
    "    criterion = nn.CrossEntropyLoss()  \n",
    "\n",
    "    if torch.cuda.is_available():\n",
    "        device = torch.device(\"cuda\")\n",
    "    elif torch.backends.mps.is_available():\n",
    "        device = torch.device(\"mps\")\n",
    "    else:\n",
    "        device = torch.device(\"cpu\")\n",
    "\n",
    "    model = model.to(device)\n",
    "\n",
    "    test_loss = 0\n",
    "    correct = 0\n",
    "    total = 0\n",
    "\n",
    "    with torch.no_grad(): \n",
    "        for inputs, labels in test_loader:\n",
    "            inputs, labels = inputs.to(device), labels.to(device)\n",
    "            outputs = model(inputs)\n",
    "            loss = criterion(outputs, labels)\n",
    "            test_loss += loss.item()\n",
    "            _, predicted = torch.max(outputs.data, 1)\n",
    "            total += labels.size(0)\n",
    "            correct += (predicted == labels).sum().item()\n",
    "\n",
    "    average_test_loss = test_loss / len(test_loader)\n",
    "    test_accuracy = 100 * correct / total\n",
    "\n",
    "    print(f'Test Loss: {average_test_loss:.4f}, Test Accuracy: {test_accuracy:.2f}%')\n",
    "\n",
    "\n",
    "def plot_metric(train_metric, valid_metric, metric_name, save_path='figures/img.png'):\n",
    "    plt.figure(figsize=(10, 5))\n",
    "    plt.plot(train_metric, label=f'Training {metric_name}')\n",
    "    plt.plot(valid_metric, label=f'Validation Loss {metric_name}')\n",
    "    plt.title(f'Training and Validation {metric_name}')\n",
    "    plt.xlabel('Epochs')\n",
    "    plt.ylabel('Loss')\n",
    "    plt.legend()\n",
    "    plt.grid(True)\n",
    "    plt.show()\n",
    "    \n",
    "    plt.savefig(save_path)"
   ]
  },
  {
   "cell_type": "markdown",
   "id": "f1716fad",
   "metadata": {},
   "source": [
    "### Training"
   ]
  },
  {
   "cell_type": "code",
   "execution_count": 10,
   "id": "ba3bdf14-4143-4851-8db0-0efb07307279",
   "metadata": {
    "tags": []
   },
   "outputs": [
    {
     "name": "stdout",
     "output_type": "stream",
     "text": [
      "MPS\n",
      "Epoch 1, Train Loss: 0.6858, Train Acc: 73.90%, Val Loss: 0.3820, Val Acc: 85.26%\n",
      "Epoch 2, Train Loss: 0.2721, Train Acc: 89.99%, Val Loss: 0.2004, Val Acc: 92.43%\n",
      "Epoch 3, Train Loss: 0.1243, Train Acc: 95.35%, Val Loss: 0.1736, Val Acc: 94.76%\n",
      "Epoch 4, Train Loss: 0.0695, Train Acc: 97.74%, Val Loss: 0.1528, Val Acc: 94.93%\n",
      "Epoch 5, Train Loss: 0.0420, Train Acc: 98.60%, Val Loss: 0.1813, Val Acc: 95.46%\n",
      "Epoch 6, Train Loss: 0.0434, Train Acc: 98.76%, Val Loss: 0.2043, Val Acc: 95.28%\n",
      "Epoch 7, Train Loss: 0.0290, Train Acc: 99.13%, Val Loss: 0.1736, Val Acc: 95.86%\n",
      "Epoch 8, Train Loss: 0.0044, Train Acc: 99.87%, Val Loss: 0.2405, Val Acc: 94.18%\n",
      "Epoch 9, Train Loss: 0.0051, Train Acc: 99.83%, Val Loss: 0.1798, Val Acc: 96.74%\n",
      "Epoch 10, Train Loss: 0.0086, Train Acc: 99.66%, Val Loss: 0.1802, Val Acc: 95.81%\n"
     ]
    }
   ],
   "source": [
    "model = CNN()  # Assuming CNN is your model class\n",
    "trained_model, train_losses, valid_losses, train_accuracies, valid_accuracies = train_model(model, train_loader, validation_loader)"
   ]
  },
  {
   "cell_type": "code",
   "execution_count": 27,
   "id": "39a6ff18-675e-47e2-8c7f-31ee2d334787",
   "metadata": {
    "tags": []
   },
   "outputs": [
    {
     "data": {
      "image/png": "[encoded data removed]",
      "text/plain": [
       "<Figure size 1000x500 with 1 Axes>"
      ]
     },
     "metadata": {},
     "output_type": "display_data"
    },
    {
     "data": {
      "text/plain": [
       "<Figure size 640x480 with 0 Axes>"
      ]
     },
     "metadata": {},
     "output_type": "display_data"
    }
   ],
   "source": [
    "# Now plot the losses\n",
    "plot_metric(train_losses, valid_losses, 'Loss')"
   ]
  },
  {
   "cell_type": "markdown",
   "id": "56078ae6",
   "metadata": {},
   "source": [
    "### Testing Model and Test Dataset"
   ]
  },
  {
   "cell_type": "code",
   "execution_count": 28,
   "id": "80f71824",
   "metadata": {},
   "outputs": [
    {
     "name": "stdout",
     "output_type": "stream",
     "text": [
      "Test Loss: 1.5891, Test Accuracy: 90.38%\n"
     ]
    }
   ],
   "source": [
    "test_model(model, test_loader)\n",
    "save_model(model)"
   ]
  },
  {
   "cell_type": "code",
   "execution_count": 21,
   "id": "bfb05ed2",
   "metadata": {},
   "outputs": [
    {
     "name": "stdout",
     "output_type": "stream",
     "text": [
      "Model loaded from model_3.pth.\n",
      "Test Loss: 1.5891, Test Accuracy: 90.38%\n"
     ]
    }
   ],
   "source": [
    "### Loads and tests latest model\n",
    "testing_model = CNN()\n",
    "testing_model = load_model(testing_model)   # Specify model number if you want to load an older model: load_model(testing_model, 1)\n",
    "test_model(testing_model, test_loader)"
   ]
  },
  {
   "cell_type": "code",
   "execution_count": 22,
   "id": "d0d4c2b0-08a9-4e92-b8bc-2bb199ab1929",
   "metadata": {
    "tags": []
   },
   "outputs": [
    {
     "name": "stdout",
     "output_type": "stream",
     "text": [
      "Requirement already satisfied: torchviz in /Users/siddharthlakkoju/miniforge3/envs/torch/lib/python3.10/site-packages (0.0.2)\n",
      "Requirement already satisfied: graphviz in /Users/siddharthlakkoju/miniforge3/envs/torch/lib/python3.10/site-packages (from torchviz) (0.20.3)\n",
      "Requirement already satisfied: torch in /Users/siddharthlakkoju/miniforge3/envs/torch/lib/python3.10/site-packages (from torchviz) (2.1.1)\n",
      "Requirement already satisfied: jinja2 in /Users/siddharthlakkoju/miniforge3/envs/torch/lib/python3.10/site-packages (from torch->torchviz) (3.1.2)\n",
      "Requirement already satisfied: typing-extensions in /Users/siddharthlakkoju/miniforge3/envs/torch/lib/python3.10/site-packages (from torch->torchviz) (4.5.0)\n",
      "Requirement already satisfied: filelock in /Users/siddharthlakkoju/miniforge3/envs/torch/lib/python3.10/site-packages (from torch->torchviz) (3.9.1)\n",
      "Requirement already satisfied: fsspec in /Users/siddharthlakkoju/miniforge3/envs/torch/lib/python3.10/site-packages (from torch->torchviz) (2023.6.0)\n",
      "Requirement already satisfied: sympy in /Users/siddharthlakkoju/miniforge3/envs/torch/lib/python3.10/site-packages (from torch->torchviz) (1.11.1)\n",
      "Requirement already satisfied: networkx in /Users/siddharthlakkoju/miniforge3/envs/torch/lib/python3.10/site-packages (from torch->torchviz) (3.0)\n",
      "Requirement already satisfied: MarkupSafe>=2.0 in /Users/siddharthlakkoju/miniforge3/envs/torch/lib/python3.10/site-packages (from jinja2->torch->torchviz) (2.1.2)\n",
      "Requirement already satisfied: mpmath>=0.19 in /Users/siddharthlakkoju/miniforge3/envs/torch/lib/python3.10/site-packages (from sympy->torch->torchviz) (1.3.0)\n"
     ]
    }
   ],
   "source": [
    "!pip3 install torchviz"
   ]
  },
  {
   "cell_type": "code",
   "execution_count": 18,
   "id": "a53471c5-1069-4bb4-b755-d366b12233e0",
   "metadata": {
    "tags": []
   },
   "outputs": [
    {
     "data": {
      "text/plain": [
       "'model_visualization.png'"
      ]
     },
     "execution_count": 18,
     "metadata": {},
     "output_type": "execute_result"
    }
   ],
   "source": [
    "from torchviz import make_dot\n",
    "\n",
    "def visualize_model(model, input_size=(3, 150, 150)):\n",
    "    # Create a dummy input tensor with the correct size\n",
    "    dummy_input = torch.randn(1, *input_size, requires_grad=True)\n",
    "    device = torch.device('cuda' if torch.cuda.is_available() else 'cpu')\n",
    "    dummy_input = dummy_input.to(device)\n",
    "    model = model.to(device)\n",
    "    \n",
    "    # Forward pass through the model\n",
    "    output = model(dummy_input)\n",
    "    \n",
    "    # Create dot graph of the model\n",
    "    dot = make_dot(output, params=dict(list(model.named_parameters()) + [('input', dummy_input)]))\n",
    "    return dot\n",
    "\n",
    "# Example usage:\n",
    "dot = visualize_model(model)\n",
    "dot.render('model_visualization', format='png', cleanup=True)  # This saves the diagram as a PNG"
   ]
  }
 ],
 "metadata": {
  "kernelspec": {
   "display_name": "Python 3 (ipykernel)",
   "language": "python",
   "name": "python3"
  },
  "language_info": {
   "codemirror_mode": {
    "name": "ipython",
    "version": 3
   },
   "file_extension": ".py",
   "mimetype": "text/x-python",
   "name": "python",
   "nbconvert_exporter": "python",
   "pygments_lexer": "ipython3",
   "version": "3.10.9"
  }
 },
 "nbformat": 4,
 "nbformat_minor": 5
}
